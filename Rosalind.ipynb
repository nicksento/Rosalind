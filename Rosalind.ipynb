{
 "cells": [
  {
   "cell_type": "markdown",
   "metadata": {},
   "source": [
    "# Rosalind Problems"
   ]
  },
  {
   "cell_type": "markdown",
   "metadata": {},
   "source": [
    "In this notebook i look through several bioinformatics problems from the Rosalind platform, using [Biopython](https://biopython.org/) and [NetworkX](https://networkx.org/) packages.\n",
    "\n",
    "[Rosalind](http://rosalind.info/problems/locations/) is a platform for learning bioinformatics and programming through problem solving.  \n",
    "\n",
    "The problems can be found [here](http://rosalind.info/problems/list-view/).\n",
    "\n",
    "The GitHub repository for this project can be found [here](https://github.com/nicksento/Rosalind).\n"
   ]
  },
  {
   "cell_type": "markdown",
   "metadata": {},
   "source": [
    "# Import Libraries"
   ]
  },
  {
   "cell_type": "code",
   "execution_count": 1,
   "metadata": {},
   "outputs": [],
   "source": [
    "from Bio.Seq import Seq\n",
    "from Bio import SeqIO\n",
    "from Bio.SeqUtils import GC\n",
    "from Bio import motifs\n",
    "\n",
    "import numpy as np\n",
    "\n",
    "import networkx as nx\n",
    "import matplotlib.pyplot as plt"
   ]
  },
  {
   "cell_type": "markdown",
   "metadata": {},
   "source": [
    "# Counting DNA Nucleotides"
   ]
  },
  {
   "cell_type": "code",
   "execution_count": 2,
   "metadata": {},
   "outputs": [],
   "source": [
    "def Counting_DNA_Nucleotides(dna):\n",
    "    \"\"\"\n",
    "    Given a DNA string s, prints the respective number \n",
    "    of times that the symbols 'A', 'C', 'G', and 'T' occur in s\n",
    "    \"\"\"\n",
    "    seq = Seq(dna)\n",
    "    print(\"Adenine  (A):{} \\nCytosine (C):{}\"\n",
    "      \"\\nGuanine  (G):{} \\nThymine  (T):{}\".format(seq.count(\"A\"),\n",
    "                                                 seq.count(\"C\"),\n",
    "                                                 seq.count(\"G\"),\n",
    "                                                 seq.count(\"T\")))"
   ]
  },
  {
   "cell_type": "code",
   "execution_count": 3,
   "metadata": {},
   "outputs": [],
   "source": [
    "dna = \"AGCTTTTCATTCTGACTGCAACGGGCAATATGTCTCTGTGTGGATTAAAAAAAGAGTGTCTGATAGCAGC\""
   ]
  },
  {
   "cell_type": "code",
   "execution_count": 4,
   "metadata": {},
   "outputs": [
    {
     "name": "stdout",
     "output_type": "stream",
     "text": [
      "Adenine  (A):20 \n",
      "Cytosine (C):12\n",
      "Guanine  (G):17 \n",
      "Thymine  (T):21\n"
     ]
    }
   ],
   "source": [
    "Counting_DNA_Nucleotides(dna)"
   ]
  },
  {
   "cell_type": "markdown",
   "metadata": {},
   "source": [
    "# Transcribe DNA into RNA"
   ]
  },
  {
   "cell_type": "markdown",
   "metadata": {},
   "source": [
    "There is a built-in function in the Biopython package for transcribing"
   ]
  },
  {
   "cell_type": "code",
   "execution_count": 5,
   "metadata": {},
   "outputs": [],
   "source": [
    "dna = Seq(\"GATGGAACTTGACTACGTAAATT\")"
   ]
  },
  {
   "cell_type": "code",
   "execution_count": 6,
   "metadata": {
    "scrolled": true
   },
   "outputs": [
    {
     "name": "stdout",
     "output_type": "stream",
     "text": [
      "GAUGGAACUUGACUACGUAAAUU\n"
     ]
    }
   ],
   "source": [
    "rna = dna.transcribe()\n",
    "print(rna)"
   ]
  },
  {
   "cell_type": "markdown",
   "metadata": {},
   "source": [
    "# Complementing a Strand of DNA"
   ]
  },
  {
   "cell_type": "markdown",
   "metadata": {},
   "source": [
    "There is a built-in function in the Biopython package that returns the reverse complement of a DNA string."
   ]
  },
  {
   "cell_type": "code",
   "execution_count": 7,
   "metadata": {},
   "outputs": [
    {
     "name": "stdout",
     "output_type": "stream",
     "text": [
      "ACCGGGTTTT\n"
     ]
    }
   ],
   "source": [
    "seq = Seq(\"AAAACCCGGT\")\n",
    "rev_com = seq.reverse_complement()\n",
    "print(rev_com)"
   ]
  },
  {
   "cell_type": "markdown",
   "metadata": {},
   "source": [
    "# Computing GC Content"
   ]
  },
  {
   "cell_type": "code",
   "execution_count": 8,
   "metadata": {},
   "outputs": [],
   "source": [
    "def Computing_GC_Content(data_path):\n",
    "    \"\"\"\n",
    "    Given DNA strings in FASTA format, prints the ID of the string having \n",
    "    the highest GC-content, followed by the GC-content of that string.\n",
    "    \"\"\"\n",
    "    max = 0\n",
    "    for seq_record in SeqIO.parse(data_path, \"fasta\"):\n",
    "        if GC(seq_record.seq) > max:\n",
    "            max = GC(seq_record.seq)\n",
    "            id = seq_record.id\n",
    "    print(id)    \n",
    "    print(max)"
   ]
  },
  {
   "cell_type": "code",
   "execution_count": 9,
   "metadata": {},
   "outputs": [
    {
     "name": "stdout",
     "output_type": "stream",
     "text": [
      "Rosalind_0808\n",
      "60.91954022988506\n"
     ]
    }
   ],
   "source": [
    "data_path = 'data/Computing_GC_Content.fasta'\n",
    "Computing_GC_Content(data_path)"
   ]
  },
  {
   "cell_type": "markdown",
   "metadata": {},
   "source": [
    "# Counting Point Mutations"
   ]
  },
  {
   "cell_type": "code",
   "execution_count": 10,
   "metadata": {},
   "outputs": [],
   "source": [
    "def Counting_Point_Mutations(seq1, seq2):\n",
    "    \"\"\"\n",
    "    Given two DNA strings seq1 and seq2 of equal length,\n",
    "    prints The Hamming distance dH(seq1,seq2)\n",
    "    \"\"\"\n",
    "    count = 0\n",
    "    for i in range(len(seq1)):\n",
    "          if (seq1[i] != seq2[i]):\n",
    "              count += 1\n",
    "    print(count)"
   ]
  },
  {
   "cell_type": "code",
   "execution_count": 11,
   "metadata": {},
   "outputs": [],
   "source": [
    "seq1 = \"GAGCCTACTAACGGGAT\"\n",
    "seq2 = \"CATCGTAATGACGGCCT\""
   ]
  },
  {
   "cell_type": "code",
   "execution_count": 12,
   "metadata": {},
   "outputs": [
    {
     "name": "stdout",
     "output_type": "stream",
     "text": [
      "7\n"
     ]
    }
   ],
   "source": [
    "Counting_Point_Mutations(seq1, seq2)"
   ]
  },
  {
   "cell_type": "markdown",
   "metadata": {},
   "source": [
    "# Translating RNA into Protein"
   ]
  },
  {
   "cell_type": "markdown",
   "metadata": {},
   "source": [
    "There is a built-in function in the Biopython package that translates an mRNA string into Protein. "
   ]
  },
  {
   "cell_type": "code",
   "execution_count": 13,
   "metadata": {},
   "outputs": [
    {
     "name": "stdout",
     "output_type": "stream",
     "text": [
      "MAMAPRTEINSTRING*\n"
     ]
    }
   ],
   "source": [
    "mRNA = Seq(\"AUGGCCAUGGCGCCCAGAACUGAGAUCAAUAGUACCCGUAUUAACGGGUGA\")\n",
    "print(mRNA.translate())"
   ]
  },
  {
   "cell_type": "markdown",
   "metadata": {},
   "source": [
    "# Finding a Motif in DNA"
   ]
  },
  {
   "cell_type": "code",
   "execution_count": 14,
   "metadata": {},
   "outputs": [],
   "source": [
    "def find_motif(seq1, seq2):\n",
    "    \"\"\"\n",
    "    Given two DNA strings seq1 and seq2,\n",
    "    prints all locations of seq2 as a substring of seq1.\n",
    "    \"\"\"\n",
    "    instances = [Seq(seq2)]\n",
    "    m = motifs.create(instances)\n",
    "    position = []\n",
    "    for pos, seq in m.instances.search(seq1):\n",
    "        position.append(pos+1)\n",
    "    print(*position)"
   ]
  },
  {
   "cell_type": "code",
   "execution_count": 15,
   "metadata": {},
   "outputs": [],
   "source": [
    "seq1 = \"GATATATGCATATACTT\"\n",
    "seq2 = \"ATAT\""
   ]
  },
  {
   "cell_type": "code",
   "execution_count": 16,
   "metadata": {},
   "outputs": [
    {
     "name": "stdout",
     "output_type": "stream",
     "text": [
      "2 4 10\n"
     ]
    }
   ],
   "source": [
    "find_motif(seq1, seq2)"
   ]
  },
  {
   "cell_type": "markdown",
   "metadata": {},
   "source": [
    "# Consensus and Profile"
   ]
  },
  {
   "cell_type": "code",
   "execution_count": 17,
   "metadata": {},
   "outputs": [],
   "source": [
    "def Consensus_and_Profile(data_path):\n",
    "    \"\"\"\n",
    "    Given a collection of DNA strings of equal length in FASTA format,\n",
    "    prints a consensus string and profile matrix for the collection. \n",
    "    \"\"\"\n",
    "    instances = []\n",
    "    for seq_record in SeqIO.parse(data_path, \"fasta\"):\n",
    "        instances.append(seq_record.seq)\n",
    "    m = motifs.create(instances)\n",
    "    print(m.consensus)\n",
    "    print('A:', *m.counts[\"A\"])\n",
    "    print('C:', *m.counts[\"C\"])\n",
    "    print('G:', *m.counts[\"G\"])\n",
    "    print('T:', *m.counts[\"T\"])"
   ]
  },
  {
   "cell_type": "code",
   "execution_count": 18,
   "metadata": {},
   "outputs": [
    {
     "name": "stdout",
     "output_type": "stream",
     "text": [
      "ATGCAACT\n",
      "A: 5 1 0 0 5 5 0 0\n",
      "C: 0 0 1 4 2 0 6 1\n",
      "G: 1 1 6 3 0 1 0 0\n",
      "T: 1 5 0 0 0 1 1 6\n"
     ]
    }
   ],
   "source": [
    "data_path = \"data/Consensus_and_Profile.fasta\"\n",
    "Consensus_and_Profile(data_path)"
   ]
  },
  {
   "cell_type": "markdown",
   "metadata": {},
   "source": [
    "# Overlap Graphs"
   ]
  },
  {
   "cell_type": "code",
   "execution_count": 19,
   "metadata": {},
   "outputs": [],
   "source": [
    "def Overlap_Graphs(data_path):\n",
    "    \"\"\"\n",
    "    Given a collection of DNA strings in FASTA format,\n",
    "    prints the adjacency list corresponding to O3 and \n",
    "    draws the corresponding graph.\n",
    "    \"\"\"\n",
    "    P = [] #P.append(seq_record)\n",
    "    id = []\n",
    "    str_rec = []\n",
    "    for seq_record in SeqIO.parse(data_path, \"fasta\"):\n",
    "        P.append(list(seq_record.seq))\n",
    "        id.append(seq_record.id)\n",
    "        str_rec.append(str(seq_record.seq))\n",
    "    edges = []\n",
    "    for i in range (len(P)):\n",
    "        for j in range (len(P)):\n",
    "            if ((P[i][-3:] == P[j][0:3]) & (i!=j)):\n",
    "                print(id[i], id[j])  \n",
    "                edges.append((str_rec[i],str_rec[j]))\n",
    "    Draw_Graph(edges)"
   ]
  },
  {
   "cell_type": "code",
   "execution_count": 20,
   "metadata": {},
   "outputs": [],
   "source": [
    "def Draw_Graph(edges):\n",
    "    G = nx.DiGraph()\n",
    "    G.add_edges_from(edges)\n",
    "    pos = nx.spring_layout(G)\n",
    "    nx.draw_networkx(G, pos)\n",
    "    plt.show()\n",
    "    \n",
    "    A = nx.nx_agraph.to_agraph(G)\n",
    "    A.layout()\n",
    "    A.draw('data/Overlap_Graphs.png')      "
   ]
  },
  {
   "cell_type": "code",
   "execution_count": 21,
   "metadata": {},
   "outputs": [
    {
     "name": "stdout",
     "output_type": "stream",
     "text": [
      "Rosalind_0498 Rosalind_2391\n",
      "Rosalind_0498 Rosalind_0442\n",
      "Rosalind_2391 Rosalind_2323\n"
     ]
    },
    {
     "data": {
      "image/png": "[encoded data removed]",
      "text/plain": [
       "<Figure size 432x288 with 1 Axes>"
      ]
     },
     "metadata": {},
     "output_type": "display_data"
    }
   ],
   "source": [
    "data_path = \"data/Overlap_Graphs.fasta\"\n",
    "Overlap_Graphs(data_path)"
   ]
  },
  {
   "cell_type": "code",
   "execution_count": 22,
   "metadata": {},
   "outputs": [
    {
     "data": {
      "image/png": "[encoded data removed]",
      "text/plain": [
       "<IPython.core.display.Image object>"
      ]
     },
     "execution_count": 22,
     "metadata": {},
     "output_type": "execute_result"
    }
   ],
   "source": [
    "from IPython.display import Image\n",
    "Image(\"data/Overlap_Graphs.png\")"
   ]
  },
  {
   "cell_type": "markdown",
   "metadata": {},
   "source": [
    "# Finding a Shared Motif"
   ]
  },
  {
   "cell_type": "code",
   "execution_count": 23,
   "metadata": {},
   "outputs": [],
   "source": [
    "def Finding_a_Shared_Motif(data_path):\n",
    "    \"\"\"\n",
    "    Given: A collection of DNA strings in FASTA format,\n",
    "    prints a longest common substring of the collection.\n",
    "    \"\"\"    \n",
    "    s = []\n",
    "    for seq_record in SeqIO.parse(data_path, \"fasta\"):\n",
    "        s.append(seq_record.seq)\n",
    "\n",
    "    index = s.index(min(s, key=len))\n",
    "    motif = ''\n",
    "    shortest = s[index]\n",
    "\n",
    "    for i in range(len(shortest)):\n",
    "        n = 0\n",
    "        present = True\n",
    "        while present:\n",
    "            for each in s:\n",
    "                if shortest[i:i+n] not in each or n>1000:\n",
    "                    present = False\n",
    "                    break\n",
    "            if present:\n",
    "                motif = max(shortest[i:i+n], motif, key=len)\n",
    "            n += 1\n",
    "    print(motif)"
   ]
  },
  {
   "cell_type": "code",
   "execution_count": 24,
   "metadata": {},
   "outputs": [
    {
     "name": "stdout",
     "output_type": "stream",
     "text": [
      "CA\n"
     ]
    }
   ],
   "source": [
    "data_path='data/Finding_a_Shared_Motif.fasta'\n",
    "Finding_a_Shared_Motif(data_path)"
   ]
  },
  {
   "cell_type": "markdown",
   "metadata": {},
   "source": [
    "# Inferring mRNA from Protein"
   ]
  },
  {
   "cell_type": "markdown",
   "metadata": {},
   "source": [
    "## RNA codon table\n",
    "\n",
    "A table indicating the translation of individual RNA codons into amino acids for the purpose of protein creation."
   ]
  },
  {
   "cell_type": "code",
   "execution_count": 25,
   "metadata": {
    "scrolled": false
   },
   "outputs": [
    {
     "name": "stdout",
     "output_type": "stream",
     "text": [
      "Table 1 Standard, SGC0\n",
      "\n",
      "  |  U      |  C      |  A      |  G      |\n",
      "--+---------+---------+---------+---------+--\n",
      "U | UUU F   | UCU S   | UAU Y   | UGU C   | U\n",
      "U | UUC F   | UCC S   | UAC Y   | UGC C   | C\n",
      "U | UUA L   | UCA S   | UAA Stop| UGA Stop| A\n",
      "U | UUG L(s)| UCG S   | UAG Stop| UGG W   | G\n",
      "--+---------+---------+---------+---------+--\n",
      "C | CUU L   | CCU P   | CAU H   | CGU R   | U\n",
      "C | CUC L   | CCC P   | CAC H   | CGC R   | C\n",
      "C | CUA L   | CCA P   | CAA Q   | CGA R   | A\n",
      "C | CUG L(s)| CCG P   | CAG Q   | CGG R   | G\n",
      "--+---------+---------+---------+---------+--\n",
      "A | AUU I   | ACU T   | AAU N   | AGU S   | U\n",
      "A | AUC I   | ACC T   | AAC N   | AGC S   | C\n",
      "A | AUA I   | ACA T   | AAA K   | AGA R   | A\n",
      "A | AUG M(s)| ACG T   | AAG K   | AGG R   | G\n",
      "--+---------+---------+---------+---------+--\n",
      "G | GUU V   | GCU A   | GAU D   | GGU G   | U\n",
      "G | GUC V   | GCC A   | GAC D   | GGC G   | C\n",
      "G | GUA V   | GCA A   | GAA E   | GGA G   | A\n",
      "G | GUG V   | GCG A   | GAG E   | GGG G   | G\n",
      "--+---------+---------+---------+---------+--\n"
     ]
    }
   ],
   "source": [
    "from Bio.Data import CodonTable\n",
    "print(CodonTable.generic_by_id[1])"
   ]
  },
  {
   "cell_type": "code",
   "execution_count": 26,
   "metadata": {},
   "outputs": [],
   "source": [
    "# This dictionary defines how many possible RNA equivalent each aminoacid has\n",
    "protein_to_rna_dict = {'F':2,'L':6,'S':6,\n",
    "                       'Y':2,'C':2,'W':1,\n",
    "                       'P':4,'H':2,'Q':2,\n",
    "                       'R':6,'I':3,'M':1,\n",
    "                       'T':4,'N':2,'K':2,\n",
    "                       'V':4,'A':4,'D':2,\n",
    "                       'E':2,'G':4}\n",
    "stop_codons = ['UAA','UGA','UAG']\n",
    "num_stop_codons = 3"
   ]
  },
  {
   "cell_type": "code",
   "execution_count": 27,
   "metadata": {},
   "outputs": [],
   "source": [
    "def Inferring_mRNA_from_Protein(aa_seq):\n",
    "    \"\"\"\n",
    "    Given a protein string of amino acids,\n",
    "    prints the total number of different RNA strings \n",
    "    from which the protein could have been translated, modulo 1,000,000.\n",
    "    \"\"\"\n",
    "    num_dif = 1\n",
    "    for i in aa_seq:\n",
    "        num_dif = (num_dif * protein_to_rna_dict[i]) % 1000000\n",
    "    num_dif = (num_dif * num_stop_codons)\n",
    "    print(num_dif)"
   ]
  },
  {
   "cell_type": "code",
   "execution_count": 28,
   "metadata": {},
   "outputs": [
    {
     "name": "stdout",
     "output_type": "stream",
     "text": [
      "12\n"
     ]
    }
   ],
   "source": [
    "aa_seq = 'MA'\n",
    "Inferring_mRNA_from_Protein(aa_seq)"
   ]
  },
  {
   "cell_type": "markdown",
   "metadata": {},
   "source": [
    "# Rabbits and Recurrence Relations"
   ]
  },
  {
   "cell_type": "code",
   "execution_count": 29,
   "metadata": {},
   "outputs": [],
   "source": [
    "def Rabbits(N,k):\n",
    "    '''\n",
    "    Returns the total number of rabbit pairs that will be present after n months,\n",
    "    if we begin with 1 pair and in each generation,\n",
    "    every pair of reproduction-age rabbits produces a litter of k rabbit pairs \n",
    "    \n",
    "    N: months\n",
    "    k: rabbit pairs\n",
    "    '''\n",
    "    if (N==1):\n",
    "        return 1\n",
    "    elif (N==2):\n",
    "        return 1\n",
    "    else: \n",
    "        return (Rabbits(N-1,k)+k*Rabbits(N-2,k))"
   ]
  },
  {
   "cell_type": "code",
   "execution_count": 30,
   "metadata": {},
   "outputs": [
    {
     "data": {
      "text/plain": [
       "19"
      ]
     },
     "execution_count": 30,
     "metadata": {},
     "output_type": "execute_result"
    }
   ],
   "source": [
    "Rabbits(5,3)"
   ]
  },
  {
   "cell_type": "markdown",
   "metadata": {},
   "source": [
    "# Mendel's First Law"
   ]
  },
  {
   "cell_type": "code",
   "execution_count": 31,
   "metadata": {},
   "outputs": [],
   "source": [
    "def mendel(k,m,n):\n",
    "    \"\"\"\n",
    "    Given three positive integers k, m, and n, representing a population \n",
    "    containing k+m+n organisms: k individuals are homozygous dominant for a factor,\n",
    "    m are heterozygous, and n are homozygous recessive,\n",
    "    returns the probability that two randomly selected mating organisms \n",
    "    will produce an individual possessing a dominant allele \n",
    "    (and thus displaying the dominant phenotype) \n",
    "    assuming that any two organisms can mate.\n",
    "    \"\"\"\n",
    "    population = k + m + n\n",
    "    return    (k/population \n",
    "              + (m/population * k/(population-1))  \n",
    "              + (m/population * (m-1)/(population-1))*3/4\n",
    "              + (m/population * n/(population-1))*2/4\n",
    "              + (n/population * k/(population-1)) \n",
    "              + (n/population * m/(population-1))*2/4)"
   ]
  },
  {
   "cell_type": "code",
   "execution_count": 32,
   "metadata": {},
   "outputs": [],
   "source": [
    "k = 2\n",
    "m = 2 \n",
    "n = 2"
   ]
  },
  {
   "cell_type": "code",
   "execution_count": 33,
   "metadata": {},
   "outputs": [
    {
     "data": {
      "text/plain": [
       "0.7833333333333333"
      ]
     },
     "execution_count": 33,
     "metadata": {},
     "output_type": "execute_result"
    }
   ],
   "source": [
    "mendel(k,m,n)"
   ]
  }
 ],
 "metadata": {
  "kernelspec": {
   "display_name": "biovenv",
   "language": "python",
   "name": "biovenv"
  },
  "language_info": {
   "codemirror_mode": {
    "name": "ipython",
    "version": 3
   },
   "file_extension": ".py",
   "mimetype": "text/x-python",
   "name": "python",
   "nbconvert_exporter": "python",
   "pygments_lexer": "ipython3",
   "version": "3.8.5"
  }
 },
 "nbformat": 4,
 "nbformat_minor": 4
}
